{
 "cells": [
  {
   "cell_type": "markdown",
   "id": "6761e78f",
   "metadata": {},
   "source": [
    "# Project:No_Show_Appointment Data Analysis\n",
    "\n",
    "## Table of contents\n",
    "- Introduction\n",
    "- Data Wrangling\n",
    "- Exploratory Data Analysis\n",
    "- Conclusions"
   ]
  },
  {
   "cell_type": "markdown",
   "id": "80182223",
   "metadata": {},
   "source": [
    "### Introduction\n",
    "\n",
    "In this project we'll be analyzing the dataset which collects information from 100k medical appointments in\n",
    "Brazil and is focused on the question of whether or not patients show up for their appointment, in particular,we'll be interested in finding trends among the patients who showed up to their appointment and how they differed from the patients who did notshow up.  \n",
    "A number of characteristics about the patient are included in each row.\n",
    "- ‘ScheduledDay’ tells us on what day the patient set up their appointment.\n",
    "- ‘Neighborhood’ indicates the location of the hospital.\n",
    "- ‘Scholarship’ indicates whether or not the patient is enrolled in Brasilian welfare program\n",
    "- ‘No-show’ indicates whether or not the patient showed up to their appointment when it says ‘No’ this mean the patient showed up to their appointment, and when it says ‘Yes’ this mean they did not show up.\n"
   ]
  },
  {
   "cell_type": "markdown",
   "id": "85670856",
   "metadata": {},
   "source": [
    "#### We are interested to answer the following nine questions:\n",
    "- Research Question 1 : what is the percentage of attending in the appointment?\n",
    "\n",
    "- Research Question 2 :How many patient in this dataset based on their gender?¶\n",
    "\n",
    "- Research Question 3 : whether the Age is associted with showing up in the appointments ?¶\n",
    "\n",
    "- Research Question 4: whether the Gender is associted with showing up in the appointments ?\n",
    "\n",
    "- Research Question 5 : whether the Scholarship is associted with showing up in the appointments ?\n",
    "\n",
    "- Research Question 6 : whether the Alcoholism is associted with showing up in the appointments ?\n",
    "\n",
    "- Research Question 7 : whether the Handicap is associted with showing up in the appointments ?\n",
    "\n",
    "- Research Question 8 : whether the Neighbourhood is associted with showing up in the appointments ?\n",
    "\n",
    "- Research Question 9: whether the SMS_received is associted with showing up in the appointments ?\n"
   ]
  },
  {
   "cell_type": "code",
   "execution_count": 156,
   "id": "87373fd7",
   "metadata": {},
   "outputs": [],
   "source": [
    "# Use this cell to set up import statements for all of the packages that you plan to use.\n",
    "# Remember to include a 'magic word' so that your visualizations are plotted\n",
    "#   inline with the notebook. See this page for more:\n",
    "#   http://ipython.readthedocs.io/en/stable/interactive/magics.html\n",
    "\n",
    "import pandas as pd\n",
    "import numpy as np\n",
    "import matplotlib.pyplot as plt\n",
    "import seaborn as sns\n",
    "%matplotlib inline\n"
   ]
  },
  {
   "cell_type": "markdown",
   "id": "e7b940ea",
   "metadata": {},
   "source": [
    "### Data Wrangling\n",
    "Tip: In this section of the report, you will load in the data, check for cleanliness, and then trim and clean your dataset for analysis. Make sure that you document your data cleaning steps in mark-down cells precisely and justify your cleaning decisions.\n",
    "\n",
    "#### General Properties\n",
    "Tip: You should not perform too many operations in each cell. Create cells freely to explore your data. One option that you can take with this project is to do a lot of explorations in an initial notebook. These don't have to be organized, but make sure you use enough comments to understand the purpose of each code cell. Then, after you're done with your analysis, create a duplicate notebook where you will trim the excess and organize your steps so that you have a flowing, cohesive report."
   ]
  },
  {
   "cell_type": "code",
   "execution_count": 157,
   "id": "40bd1a08",
   "metadata": {
    "scrolled": true
   },
   "outputs": [
    {
     "data": {
      "text/html": [
       "<div>\n",
       "<style scoped>\n",
       "    .dataframe tbody tr th:only-of-type {\n",
       "        vertical-align: middle;\n",
       "    }\n",
       "\n",
       "    .dataframe tbody tr th {\n",
       "        vertical-align: top;\n",
       "    }\n",
       "\n",
       "    .dataframe thead th {\n",
       "        text-align: right;\n",
       "    }\n",
       "</style>\n",
       "<table border=\"1\" class=\"dataframe\">\n",
       "  <thead>\n",
       "    <tr style=\"text-align: right;\">\n",
       "      <th></th>\n",
       "      <th>PatientId</th>\n",
       "      <th>AppointmentID</th>\n",
       "      <th>Gender</th>\n",
       "      <th>ScheduledDay</th>\n",
       "      <th>AppointmentDay</th>\n",
       "      <th>Age</th>\n",
       "      <th>Neighbourhood</th>\n",
       "      <th>Scholarship</th>\n",
       "      <th>Hipertension</th>\n",
       "      <th>Diabetes</th>\n",
       "      <th>Alcoholism</th>\n",
       "      <th>Handcap</th>\n",
       "      <th>SMS_received</th>\n",
       "      <th>No-show</th>\n",
       "    </tr>\n",
       "  </thead>\n",
       "  <tbody>\n",
       "    <tr>\n",
       "      <th>0</th>\n",
       "      <td>2.987250e+13</td>\n",
       "      <td>5642903</td>\n",
       "      <td>F</td>\n",
       "      <td>2016-04-29T18:38:08Z</td>\n",
       "      <td>2016-04-29T00:00:00Z</td>\n",
       "      <td>62</td>\n",
       "      <td>JARDIM DA PENHA</td>\n",
       "      <td>0</td>\n",
       "      <td>1</td>\n",
       "      <td>0</td>\n",
       "      <td>0</td>\n",
       "      <td>0</td>\n",
       "      <td>0</td>\n",
       "      <td>No</td>\n",
       "    </tr>\n",
       "    <tr>\n",
       "      <th>1</th>\n",
       "      <td>5.589978e+14</td>\n",
       "      <td>5642503</td>\n",
       "      <td>M</td>\n",
       "      <td>2016-04-29T16:08:27Z</td>\n",
       "      <td>2016-04-29T00:00:00Z</td>\n",
       "      <td>56</td>\n",
       "      <td>JARDIM DA PENHA</td>\n",
       "      <td>0</td>\n",
       "      <td>0</td>\n",
       "      <td>0</td>\n",
       "      <td>0</td>\n",
       "      <td>0</td>\n",
       "      <td>0</td>\n",
       "      <td>No</td>\n",
       "    </tr>\n",
       "    <tr>\n",
       "      <th>2</th>\n",
       "      <td>4.262962e+12</td>\n",
       "      <td>5642549</td>\n",
       "      <td>F</td>\n",
       "      <td>2016-04-29T16:19:04Z</td>\n",
       "      <td>2016-04-29T00:00:00Z</td>\n",
       "      <td>62</td>\n",
       "      <td>MATA DA PRAIA</td>\n",
       "      <td>0</td>\n",
       "      <td>0</td>\n",
       "      <td>0</td>\n",
       "      <td>0</td>\n",
       "      <td>0</td>\n",
       "      <td>0</td>\n",
       "      <td>No</td>\n",
       "    </tr>\n",
       "    <tr>\n",
       "      <th>3</th>\n",
       "      <td>8.679512e+11</td>\n",
       "      <td>5642828</td>\n",
       "      <td>F</td>\n",
       "      <td>2016-04-29T17:29:31Z</td>\n",
       "      <td>2016-04-29T00:00:00Z</td>\n",
       "      <td>8</td>\n",
       "      <td>PONTAL DE CAMBURI</td>\n",
       "      <td>0</td>\n",
       "      <td>0</td>\n",
       "      <td>0</td>\n",
       "      <td>0</td>\n",
       "      <td>0</td>\n",
       "      <td>0</td>\n",
       "      <td>No</td>\n",
       "    </tr>\n",
       "    <tr>\n",
       "      <th>4</th>\n",
       "      <td>8.841186e+12</td>\n",
       "      <td>5642494</td>\n",
       "      <td>F</td>\n",
       "      <td>2016-04-29T16:07:23Z</td>\n",
       "      <td>2016-04-29T00:00:00Z</td>\n",
       "      <td>56</td>\n",
       "      <td>JARDIM DA PENHA</td>\n",
       "      <td>0</td>\n",
       "      <td>1</td>\n",
       "      <td>1</td>\n",
       "      <td>0</td>\n",
       "      <td>0</td>\n",
       "      <td>0</td>\n",
       "      <td>No</td>\n",
       "    </tr>\n",
       "  </tbody>\n",
       "</table>\n",
       "</div>"
      ],
      "text/plain": [
       "      PatientId  AppointmentID Gender          ScheduledDay  \\\n",
       "0  2.987250e+13        5642903      F  2016-04-29T18:38:08Z   \n",
       "1  5.589978e+14        5642503      M  2016-04-29T16:08:27Z   \n",
       "2  4.262962e+12        5642549      F  2016-04-29T16:19:04Z   \n",
       "3  8.679512e+11        5642828      F  2016-04-29T17:29:31Z   \n",
       "4  8.841186e+12        5642494      F  2016-04-29T16:07:23Z   \n",
       "\n",
       "         AppointmentDay  Age      Neighbourhood  Scholarship  Hipertension  \\\n",
       "0  2016-04-29T00:00:00Z   62    JARDIM DA PENHA            0             1   \n",
       "1  2016-04-29T00:00:00Z   56    JARDIM DA PENHA            0             0   \n",
       "2  2016-04-29T00:00:00Z   62      MATA DA PRAIA            0             0   \n",
       "3  2016-04-29T00:00:00Z    8  PONTAL DE CAMBURI            0             0   \n",
       "4  2016-04-29T00:00:00Z   56    JARDIM DA PENHA            0             1   \n",
       "\n",
       "   Diabetes  Alcoholism  Handcap  SMS_received No-show  \n",
       "0         0           0        0             0      No  \n",
       "1         0           0        0             0      No  \n",
       "2         0           0        0             0      No  \n",
       "3         0           0        0             0      No  \n",
       "4         1           0        0             0      No  "
      ]
     },
     "execution_count": 157,
     "metadata": {},
     "output_type": "execute_result"
    }
   ],
   "source": [
    "# Load your data and print out a few lines. Perform operations to inspect data\n",
    "#   types and look for instances of missing or possibly errant data.\n",
    "df = pd.read_csv('noshowappointments-kagglev2-may-2016.csv', sep=',')\n",
    "df.head()"
   ]
  },
  {
   "cell_type": "code",
   "execution_count": 158,
   "id": "35849d9a",
   "metadata": {},
   "outputs": [
    {
     "data": {
      "text/plain": [
       "(110527, 14)"
      ]
     },
     "execution_count": 158,
     "metadata": {},
     "output_type": "execute_result"
    }
   ],
   "source": [
    "# view dimensions of dataset\n",
    "df.shape"
   ]
  },
  {
   "cell_type": "markdown",
   "id": "b24976a9",
   "metadata": {},
   "source": [
    "There are 110527 patient(rows) and 14 characteristics about the patient(column)."
   ]
  },
  {
   "cell_type": "code",
   "execution_count": 159,
   "id": "52eeb9df",
   "metadata": {
    "scrolled": true
   },
   "outputs": [
    {
     "data": {
      "text/html": [
       "<div>\n",
       "<style scoped>\n",
       "    .dataframe tbody tr th:only-of-type {\n",
       "        vertical-align: middle;\n",
       "    }\n",
       "\n",
       "    .dataframe tbody tr th {\n",
       "        vertical-align: top;\n",
       "    }\n",
       "\n",
       "    .dataframe thead th {\n",
       "        text-align: right;\n",
       "    }\n",
       "</style>\n",
       "<table border=\"1\" class=\"dataframe\">\n",
       "  <thead>\n",
       "    <tr style=\"text-align: right;\">\n",
       "      <th></th>\n",
       "      <th>PatientId</th>\n",
       "      <th>AppointmentID</th>\n",
       "      <th>Age</th>\n",
       "      <th>Scholarship</th>\n",
       "      <th>Hipertension</th>\n",
       "      <th>Diabetes</th>\n",
       "      <th>Alcoholism</th>\n",
       "      <th>Handcap</th>\n",
       "      <th>SMS_received</th>\n",
       "    </tr>\n",
       "  </thead>\n",
       "  <tbody>\n",
       "    <tr>\n",
       "      <th>count</th>\n",
       "      <td>1.105270e+05</td>\n",
       "      <td>1.105270e+05</td>\n",
       "      <td>110527.000000</td>\n",
       "      <td>110527.000000</td>\n",
       "      <td>110527.000000</td>\n",
       "      <td>110527.000000</td>\n",
       "      <td>110527.000000</td>\n",
       "      <td>110527.000000</td>\n",
       "      <td>110527.000000</td>\n",
       "    </tr>\n",
       "    <tr>\n",
       "      <th>mean</th>\n",
       "      <td>1.474963e+14</td>\n",
       "      <td>5.675305e+06</td>\n",
       "      <td>37.088874</td>\n",
       "      <td>0.098266</td>\n",
       "      <td>0.197246</td>\n",
       "      <td>0.071865</td>\n",
       "      <td>0.030400</td>\n",
       "      <td>0.022248</td>\n",
       "      <td>0.321026</td>\n",
       "    </tr>\n",
       "    <tr>\n",
       "      <th>std</th>\n",
       "      <td>2.560949e+14</td>\n",
       "      <td>7.129575e+04</td>\n",
       "      <td>23.110205</td>\n",
       "      <td>0.297675</td>\n",
       "      <td>0.397921</td>\n",
       "      <td>0.258265</td>\n",
       "      <td>0.171686</td>\n",
       "      <td>0.161543</td>\n",
       "      <td>0.466873</td>\n",
       "    </tr>\n",
       "    <tr>\n",
       "      <th>min</th>\n",
       "      <td>3.921784e+04</td>\n",
       "      <td>5.030230e+06</td>\n",
       "      <td>-1.000000</td>\n",
       "      <td>0.000000</td>\n",
       "      <td>0.000000</td>\n",
       "      <td>0.000000</td>\n",
       "      <td>0.000000</td>\n",
       "      <td>0.000000</td>\n",
       "      <td>0.000000</td>\n",
       "    </tr>\n",
       "    <tr>\n",
       "      <th>25%</th>\n",
       "      <td>4.172614e+12</td>\n",
       "      <td>5.640286e+06</td>\n",
       "      <td>18.000000</td>\n",
       "      <td>0.000000</td>\n",
       "      <td>0.000000</td>\n",
       "      <td>0.000000</td>\n",
       "      <td>0.000000</td>\n",
       "      <td>0.000000</td>\n",
       "      <td>0.000000</td>\n",
       "    </tr>\n",
       "    <tr>\n",
       "      <th>50%</th>\n",
       "      <td>3.173184e+13</td>\n",
       "      <td>5.680573e+06</td>\n",
       "      <td>37.000000</td>\n",
       "      <td>0.000000</td>\n",
       "      <td>0.000000</td>\n",
       "      <td>0.000000</td>\n",
       "      <td>0.000000</td>\n",
       "      <td>0.000000</td>\n",
       "      <td>0.000000</td>\n",
       "    </tr>\n",
       "    <tr>\n",
       "      <th>75%</th>\n",
       "      <td>9.439172e+13</td>\n",
       "      <td>5.725524e+06</td>\n",
       "      <td>55.000000</td>\n",
       "      <td>0.000000</td>\n",
       "      <td>0.000000</td>\n",
       "      <td>0.000000</td>\n",
       "      <td>0.000000</td>\n",
       "      <td>0.000000</td>\n",
       "      <td>1.000000</td>\n",
       "    </tr>\n",
       "    <tr>\n",
       "      <th>max</th>\n",
       "      <td>9.999816e+14</td>\n",
       "      <td>5.790484e+06</td>\n",
       "      <td>115.000000</td>\n",
       "      <td>1.000000</td>\n",
       "      <td>1.000000</td>\n",
       "      <td>1.000000</td>\n",
       "      <td>1.000000</td>\n",
       "      <td>4.000000</td>\n",
       "      <td>1.000000</td>\n",
       "    </tr>\n",
       "  </tbody>\n",
       "</table>\n",
       "</div>"
      ],
      "text/plain": [
       "          PatientId  AppointmentID            Age    Scholarship  \\\n",
       "count  1.105270e+05   1.105270e+05  110527.000000  110527.000000   \n",
       "mean   1.474963e+14   5.675305e+06      37.088874       0.098266   \n",
       "std    2.560949e+14   7.129575e+04      23.110205       0.297675   \n",
       "min    3.921784e+04   5.030230e+06      -1.000000       0.000000   \n",
       "25%    4.172614e+12   5.640286e+06      18.000000       0.000000   \n",
       "50%    3.173184e+13   5.680573e+06      37.000000       0.000000   \n",
       "75%    9.439172e+13   5.725524e+06      55.000000       0.000000   \n",
       "max    9.999816e+14   5.790484e+06     115.000000       1.000000   \n",
       "\n",
       "        Hipertension       Diabetes     Alcoholism        Handcap  \\\n",
       "count  110527.000000  110527.000000  110527.000000  110527.000000   \n",
       "mean        0.197246       0.071865       0.030400       0.022248   \n",
       "std         0.397921       0.258265       0.171686       0.161543   \n",
       "min         0.000000       0.000000       0.000000       0.000000   \n",
       "25%         0.000000       0.000000       0.000000       0.000000   \n",
       "50%         0.000000       0.000000       0.000000       0.000000   \n",
       "75%         0.000000       0.000000       0.000000       0.000000   \n",
       "max         1.000000       1.000000       1.000000       4.000000   \n",
       "\n",
       "        SMS_received  \n",
       "count  110527.000000  \n",
       "mean        0.321026  \n",
       "std         0.466873  \n",
       "min         0.000000  \n",
       "25%         0.000000  \n",
       "50%         0.000000  \n",
       "75%         1.000000  \n",
       "max         1.000000  "
      ]
     },
     "execution_count": 159,
     "metadata": {},
     "output_type": "execute_result"
    }
   ],
   "source": [
    "df.describe()"
   ]
  },
  {
   "cell_type": "markdown",
   "id": "d017c77f",
   "metadata": {},
   "source": [
    "- minimum  age is -1 year doesn't make sense\n",
    "- maximamum age is 115 years"
   ]
  },
  {
   "cell_type": "code",
   "execution_count": 160,
   "id": "c4d193be",
   "metadata": {},
   "outputs": [
    {
     "name": "stdout",
     "output_type": "stream",
     "text": [
      "<class 'pandas.core.frame.DataFrame'>\n",
      "RangeIndex: 110527 entries, 0 to 110526\n",
      "Data columns (total 14 columns):\n",
      " #   Column          Non-Null Count   Dtype  \n",
      "---  ------          --------------   -----  \n",
      " 0   PatientId       110527 non-null  float64\n",
      " 1   AppointmentID   110527 non-null  int64  \n",
      " 2   Gender          110527 non-null  object \n",
      " 3   ScheduledDay    110527 non-null  object \n",
      " 4   AppointmentDay  110527 non-null  object \n",
      " 5   Age             110527 non-null  int64  \n",
      " 6   Neighbourhood   110527 non-null  object \n",
      " 7   Scholarship     110527 non-null  int64  \n",
      " 8   Hipertension    110527 non-null  int64  \n",
      " 9   Diabetes        110527 non-null  int64  \n",
      " 10  Alcoholism      110527 non-null  int64  \n",
      " 11  Handcap         110527 non-null  int64  \n",
      " 12  SMS_received    110527 non-null  int64  \n",
      " 13  No-show         110527 non-null  object \n",
      "dtypes: float64(1), int64(8), object(5)\n",
      "memory usage: 11.8+ MB\n"
     ]
    }
   ],
   "source": [
    "df.info()"
   ]
  },
  {
   "cell_type": "code",
   "execution_count": 161,
   "id": "2eeda4e9",
   "metadata": {},
   "outputs": [
    {
     "data": {
      "text/plain": [
       "0"
      ]
     },
     "execution_count": 161,
     "metadata": {},
     "output_type": "execute_result"
    }
   ],
   "source": [
    "df.duplicated().sum()"
   ]
  },
  {
   "cell_type": "markdown",
   "id": "f83c2019",
   "metadata": {},
   "source": [
    "- None of the characteristics about the patient have missing values\n",
    "- None of the characteristics about the patient have duplicated values\n",
    "- the spelling of Hipertension and Handcap is not correct\n",
    "- No-show name needs to be changed to No_show \n"
   ]
  },
  {
   "cell_type": "markdown",
   "id": "1027f00f",
   "metadata": {},
   "source": [
    "#### Data Cleaning\n",
    "Tip: Make sure that you keep your reader informed on the steps that you are taking in your investigation. Follow every code cell, or every set of related code cells, with a markdown cell to describe to the reader what was found in the preceding cell(s). Try to make it so that the reader can then understand what they will be seeing in the following cell(s)."
   ]
  },
  {
   "cell_type": "code",
   "execution_count": 162,
   "id": "3744e609",
   "metadata": {},
   "outputs": [
    {
     "data": {
      "text/plain": [
       "(110526, 14)"
      ]
     },
     "execution_count": 162,
     "metadata": {},
     "output_type": "execute_result"
    }
   ],
   "source": [
    "# drop the row associated to the age value = -1\n",
    "df.drop(df.loc[df['Age']== -1].index, inplace=True)\n",
    "# view dimensions of dataset to confirm the change\n",
    "df.shape"
   ]
  },
  {
   "cell_type": "code",
   "execution_count": 163,
   "id": "c8d285f7",
   "metadata": {},
   "outputs": [
    {
     "data": {
      "text/plain": [
       "(110526, 10)"
      ]
     },
     "execution_count": 163,
     "metadata": {},
     "output_type": "execute_result"
    }
   ],
   "source": [
    "# drop the PatientId, AppointmentID ,ScheduledDay ,AppointmentDay columns form the dataset as we won't be analyzing them \n",
    "df.drop(['PatientId','AppointmentID','ScheduledDay','AppointmentDay'], axis=1, inplace=True)\n",
    "# view dimensions of dataset to confirm the change\n",
    "df.shape"
   ]
  },
  {
   "cell_type": "code",
   "execution_count": 164,
   "id": "b324cfe2",
   "metadata": {},
   "outputs": [],
   "source": [
    "# correct Hypertension And ,Handicap spelling & rename No-show column\n",
    "df.rename(columns={'Hipertension':'Hypertension','Handcap':'Handicap','No-show':'No_show'}, inplace=True)"
   ]
  },
  {
   "cell_type": "code",
   "execution_count": 165,
   "id": "2138e740",
   "metadata": {},
   "outputs": [
    {
     "data": {
      "text/html": [
       "<div>\n",
       "<style scoped>\n",
       "    .dataframe tbody tr th:only-of-type {\n",
       "        vertical-align: middle;\n",
       "    }\n",
       "\n",
       "    .dataframe tbody tr th {\n",
       "        vertical-align: top;\n",
       "    }\n",
       "\n",
       "    .dataframe thead th {\n",
       "        text-align: right;\n",
       "    }\n",
       "</style>\n",
       "<table border=\"1\" class=\"dataframe\">\n",
       "  <thead>\n",
       "    <tr style=\"text-align: right;\">\n",
       "      <th></th>\n",
       "      <th>Gender</th>\n",
       "      <th>Age</th>\n",
       "      <th>Neighbourhood</th>\n",
       "      <th>Scholarship</th>\n",
       "      <th>Hypertension</th>\n",
       "      <th>Diabetes</th>\n",
       "      <th>Alcoholism</th>\n",
       "      <th>Handicap</th>\n",
       "      <th>SMS_received</th>\n",
       "      <th>No_show</th>\n",
       "    </tr>\n",
       "  </thead>\n",
       "  <tbody>\n",
       "    <tr>\n",
       "      <th>0</th>\n",
       "      <td>F</td>\n",
       "      <td>62</td>\n",
       "      <td>JARDIM DA PENHA</td>\n",
       "      <td>0</td>\n",
       "      <td>1</td>\n",
       "      <td>0</td>\n",
       "      <td>0</td>\n",
       "      <td>0</td>\n",
       "      <td>0</td>\n",
       "      <td>No</td>\n",
       "    </tr>\n",
       "    <tr>\n",
       "      <th>1</th>\n",
       "      <td>M</td>\n",
       "      <td>56</td>\n",
       "      <td>JARDIM DA PENHA</td>\n",
       "      <td>0</td>\n",
       "      <td>0</td>\n",
       "      <td>0</td>\n",
       "      <td>0</td>\n",
       "      <td>0</td>\n",
       "      <td>0</td>\n",
       "      <td>No</td>\n",
       "    </tr>\n",
       "    <tr>\n",
       "      <th>2</th>\n",
       "      <td>F</td>\n",
       "      <td>62</td>\n",
       "      <td>MATA DA PRAIA</td>\n",
       "      <td>0</td>\n",
       "      <td>0</td>\n",
       "      <td>0</td>\n",
       "      <td>0</td>\n",
       "      <td>0</td>\n",
       "      <td>0</td>\n",
       "      <td>No</td>\n",
       "    </tr>\n",
       "    <tr>\n",
       "      <th>3</th>\n",
       "      <td>F</td>\n",
       "      <td>8</td>\n",
       "      <td>PONTAL DE CAMBURI</td>\n",
       "      <td>0</td>\n",
       "      <td>0</td>\n",
       "      <td>0</td>\n",
       "      <td>0</td>\n",
       "      <td>0</td>\n",
       "      <td>0</td>\n",
       "      <td>No</td>\n",
       "    </tr>\n",
       "    <tr>\n",
       "      <th>4</th>\n",
       "      <td>F</td>\n",
       "      <td>56</td>\n",
       "      <td>JARDIM DA PENHA</td>\n",
       "      <td>0</td>\n",
       "      <td>1</td>\n",
       "      <td>1</td>\n",
       "      <td>0</td>\n",
       "      <td>0</td>\n",
       "      <td>0</td>\n",
       "      <td>No</td>\n",
       "    </tr>\n",
       "  </tbody>\n",
       "</table>\n",
       "</div>"
      ],
      "text/plain": [
       "  Gender  Age      Neighbourhood  Scholarship  Hypertension  Diabetes  \\\n",
       "0      F   62    JARDIM DA PENHA            0             1         0   \n",
       "1      M   56    JARDIM DA PENHA            0             0         0   \n",
       "2      F   62      MATA DA PRAIA            0             0         0   \n",
       "3      F    8  PONTAL DE CAMBURI            0             0         0   \n",
       "4      F   56    JARDIM DA PENHA            0             1         1   \n",
       "\n",
       "   Alcoholism  Handicap  SMS_received No_show  \n",
       "0           0         0             0      No  \n",
       "1           0         0             0      No  \n",
       "2           0         0             0      No  \n",
       "3           0         0             0      No  \n",
       "4           0         0             0      No  "
      ]
     },
     "execution_count": 165,
     "metadata": {},
     "output_type": "execute_result"
    }
   ],
   "source": [
    "#Take one last check to confirm all the changes\n",
    "df.head()"
   ]
  },
  {
   "cell_type": "markdown",
   "id": "16e48ff6",
   "metadata": {},
   "source": [
    "### Exploratory Data Analysis\n",
    "Tip: Now that you've trimmed and cleaned your data, you're ready to move on to exploration. Compute statistics and create visualizations with the goal of addressing the research questions that you posed in the Introduction section. You should compute the relevant statistics throughout the analysis when an inference is made about the data. Note that at least two or more kinds of plots should be created as part of the exploration, and you must compare and show trends in the varied visualizations.\n",
    "\n",
    "Tip: - Investigate the stated question(s) from multiple angles. It is recommended that you be systematic with your approach. Look at one variable at a time, and then follow it up by looking at relationships between variables. You should explore at least three variables in relation to the primary question. This can be an exploratory relationship between three variables of interest, or looking at how two independent variables relate to a single dependent variable of interest. Lastly, you should perform both single-variable (1d) and multiple-variable (2d) explorations.\n",
    "\n",
    "- No_show is my dependent variable and [Gender -Age-Neighbourhood-Scholarship-Hypertension-Diabetes-Alcoholism-Handicap-SMS_received] are my independent variables.\n",
    "\n",
    "\n"
   ]
  },
  {
   "cell_type": "markdown",
   "id": "e38ed76c",
   "metadata": {},
   "source": [
    "#### Take a look at the  Histograms of the whole data frame"
   ]
  },
  {
   "cell_type": "code",
   "execution_count": 166,
   "id": "ac030475",
   "metadata": {
    "scrolled": true
   },
   "outputs": [
    {
     "data": {
      "image/png": "[encoded data removed]",
      "text/plain": [
       "<Figure size 720x576 with 9 Axes>"
      ]
     },
     "metadata": {
      "needs_background": "light"
     },
     "output_type": "display_data"
    }
   ],
   "source": [
    "df.hist(figsize=(10, 8));"
   ]
  },
  {
   "cell_type": "markdown",
   "id": "7ec495bc",
   "metadata": {},
   "source": [
    "- Ages are skewed to the right with the majority being around 0 t0 65 years.\n",
    "- The majority of people don't have scholsrship. \n",
    "- Less people suffer from chronic disease(Hypertension ,Diabetes).\n",
    "- Most people didn't alcoholism.\n",
    "- Also, most people didn't have handcap.\n",
    "- the people who didn't  receive SMS is about 2 times the people who receive SMS ."
   ]
  },
  {
   "cell_type": "code",
   "execution_count": 167,
   "id": "8bc72089",
   "metadata": {},
   "outputs": [],
   "source": [
    "# to make it easier to grab these rows easily in the future as well,create masks for rows where the patient showed up and rows where they didn't\n",
    "show=df.No_show == 'No'\n",
    "noShow=df.No_show=='Yes'"
   ]
  },
  {
   "cell_type": "markdown",
   "id": "c1f4e7dc",
   "metadata": {},
   "source": [
    "## Univariate Exploration"
   ]
  },
  {
   "cell_type": "markdown",
   "id": "fbf65bdc",
   "metadata": {},
   "source": [
    "### Research Question 1 :  what is the percentage of attending in the appointment?"
   ]
  },
  {
   "cell_type": "code",
   "execution_count": 168,
   "id": "f21eda9f",
   "metadata": {},
   "outputs": [
    {
     "data": {
      "text/plain": [
       "Gender           88207\n",
       "Age              88207\n",
       "Neighbourhood    88207\n",
       "Scholarship      88207\n",
       "Hypertension     88207\n",
       "Diabetes         88207\n",
       "Alcoholism       88207\n",
       "Handicap         88207\n",
       "SMS_received     88207\n",
       "No_show          88207\n",
       "dtype: int64"
      ]
     },
     "execution_count": 168,
     "metadata": {},
     "output_type": "execute_result"
    }
   ],
   "source": [
    "df[show].count()\n"
   ]
  },
  {
   "cell_type": "code",
   "execution_count": 169,
   "id": "9bb89821",
   "metadata": {},
   "outputs": [
    {
     "data": {
      "text/plain": [
       "Gender           22319\n",
       "Age              22319\n",
       "Neighbourhood    22319\n",
       "Scholarship      22319\n",
       "Hypertension     22319\n",
       "Diabetes         22319\n",
       "Alcoholism       22319\n",
       "Handicap         22319\n",
       "SMS_received     22319\n",
       "No_show          22319\n",
       "dtype: int64"
      ]
     },
     "execution_count": 169,
     "metadata": {},
     "output_type": "execute_result"
    }
   ],
   "source": [
    "df[noShow].count()"
   ]
  },
  {
   "cell_type": "markdown",
   "id": "50006d70",
   "metadata": {},
   "source": [
    "- create visuals to communicate results "
   ]
  },
  {
   "cell_type": "code",
   "execution_count": 170,
   "id": "5b351e27",
   "metadata": {},
   "outputs": [
    {
     "data": {
      "text/plain": [
       "No     79.806561\n",
       "Yes    20.193439\n",
       "Name: No_show, dtype: float64"
      ]
     },
     "execution_count": 170,
     "metadata": {},
     "output_type": "execute_result"
    }
   ],
   "source": [
    "No_show_prop = df.No_show.value_counts('No_show')*100\n",
    "No_show_prop"
   ]
  },
  {
   "cell_type": "code",
   "execution_count": 171,
   "id": "a0054053",
   "metadata": {
    "scrolled": true
   },
   "outputs": [
    {
     "data": {
      "image/png": "[encoded data removed]",
      "text/plain": [
       "<Figure size 432x288 with 1 Axes>"
      ]
     },
     "metadata": {},
     "output_type": "display_data"
    }
   ],
   "source": [
    "#plot(kind='pie')\n",
    "No_show_proportion = df.No_show.value_counts()\n",
    "labels = ['show', 'NoShow']\n",
    "explode = (0.1, 0)\n",
    "colors = ['#0099cc', '#df9f9f']\n",
    "\n",
    "plt.pie(No_show_proportion , labels = labels, explode = explode, autopct= '%1.1f%%', counterclock=True, \n",
    "        textprops={'color':'black'}, colors = colors , shadow=True);\n",
    "plt.title(' The proportion of appointment show vs. NoShow', fontsize = 18, loc = 'center',color ='black');"
   ]
  },
  {
   "cell_type": "markdown",
   "id": "4c0a525f",
   "metadata": {},
   "source": [
    "- From the chart we can see that the patients who showed up are 79.8 % and  the patients who didn't are 20.2 % .\n",
    "- The patients who showed up are much more than the patients who didn't."
   ]
  },
  {
   "cell_type": "markdown",
   "id": "45b73563",
   "metadata": {},
   "source": [
    "### Research Question 2:How many patient  in this dataset based on their gender?"
   ]
  },
  {
   "cell_type": "code",
   "execution_count": 172,
   "id": "b07036fa",
   "metadata": {},
   "outputs": [
    {
     "data": {
      "text/plain": [
       "F    71839\n",
       "M    38687\n",
       "Name: Gender, dtype: int64"
      ]
     },
     "execution_count": 172,
     "metadata": {},
     "output_type": "execute_result"
    }
   ],
   "source": [
    "# number of patients based on gender\n",
    "df.Gender.value_counts()"
   ]
  },
  {
   "cell_type": "code",
   "execution_count": 173,
   "id": "d58778de",
   "metadata": {},
   "outputs": [
    {
     "data": {
      "image/png": "[encoded data removed]",
      "text/plain": [
       "<Figure size 432x288 with 1 Axes>"
      ]
     },
     "metadata": {
      "needs_background": "light"
     },
     "output_type": "display_data"
    }
   ],
   "source": [
    "#The number of female and male\n",
    "# hue :  This parameter take column name for colour encoding.\n",
    "sns.countplot(data = df, x = 'Gender', palette=\"Set2\",  hue = df.Gender)\n",
    "plt.title(\"The number of female and male\")\n",
    "plt.xlabel(\" Gender of the patients\")\n",
    "plt.ylabel(\"Number of Gender\")\n",
    "plt.show()"
   ]
  },
  {
   "cell_type": "markdown",
   "id": "9338fbb9",
   "metadata": {},
   "source": [
    "- females are definitely more than males."
   ]
  },
  {
   "cell_type": "markdown",
   "id": "4cee2496",
   "metadata": {},
   "source": [
    "### Bivariate Exploration"
   ]
  },
  {
   "cell_type": "markdown",
   "id": "707ad742",
   "metadata": {},
   "source": [
    "### Research Question 3 : whether the Age is associted with showing up in the appointments ?¶"
   ]
  },
  {
   "cell_type": "code",
   "execution_count": 174,
   "id": "106e2f23",
   "metadata": {},
   "outputs": [
    {
     "data": {
      "image/png": "[encoded data removed]",
      "text/plain": [
       "<Figure size 720x432 with 1 Axes>"
      ]
     },
     "metadata": {
      "needs_background": "light"
     },
     "output_type": "display_data"
    }
   ],
   "source": [
    "# bivariate data involving two variables & deals with causes or relationships\n",
    "# how many patients who showed up and who didn't based on Age\n",
    "def showtrend(df,col_name):\n",
    "        plt.figure(figsize=[10.00,6.00])\n",
    "        if col_name == 'Age':\n",
    "            df.Age[show].hist(alpha=0.5,color='blue',label='show')\n",
    "            df.Age[noShow].hist(alpha=0.5,color='red',label='noShow')\n",
    "            # title and labels\n",
    "            plt.xlabel('Age')\n",
    "            plt.title('Number of patients based on Age ')\n",
    "        elif col_name == 'Alcoholism':\n",
    "            df.Alcoholism[show].hist(alpha=0.5,color='blue',label='show')\n",
    "            df.Alcoholism[noShow].hist(alpha=0.5,color='red',label='noShow')\n",
    "            # title and labels\n",
    "            plt.xlabel('Alcoholism ')\n",
    "            plt.title('Number of patients based on Alcoholism ')\n",
    "        elif col_name == 'Handicap':\n",
    "            df.Handicap[show].hist(alpha=0.5,color='blue',label='show')\n",
    "            df.Handicap[noShow].hist(alpha=0.5,color='red',label='noShow')\n",
    "            # title and labels\n",
    "            plt.xlabel('Handicap ')\n",
    "            plt.title('Number of patients based on Handicap ')         \n",
    "        # ylabel\n",
    "        plt.ylabel('Number of patients')\n",
    "        # legend\n",
    "        plt.legend()\n",
    "        \n",
    "showtrend(df,'Age')"
   ]
  },
  {
   "cell_type": "markdown",
   "id": "266353dd",
   "metadata": {},
   "source": [
    "- based on this plot, it does look like the really young children (from age 0 to 11 years)have a higher chance of showing up than other ages,followed by ages from 45 to 58 years ,but other than that it doesn't look like they're too correlated."
   ]
  },
  {
   "cell_type": "markdown",
   "id": "129e3649",
   "metadata": {},
   "source": [
    "### Research Question 4 : whether the Gender is associted with showing up in the appointments ?"
   ]
  },
  {
   "cell_type": "code",
   "execution_count": 175,
   "id": "1944a984",
   "metadata": {},
   "outputs": [
    {
     "data": {
      "image/png": "[encoded data removed]",
      "text/plain": [
       "<Figure size 432x288 with 1 Axes>"
      ]
     },
     "metadata": {
      "needs_background": "light"
     },
     "output_type": "display_data"
    }
   ],
   "source": [
    "# how many patients who showed up and who didn't based on Gender\n",
    "\n",
    "sns.countplot(data = df, x = 'Gender', palette=\"Set2\",  hue = df.No_show)\n",
    "plt.title(\"Distribution of patients based on Gender\")\n",
    "# title and labels\n",
    "plt.xlabel(\"Gender\")\n",
    "plt.ylabel(\"Number of patients\")\n",
    "plt.show()\n"
   ]
  },
  {
   "cell_type": "code",
   "execution_count": 176,
   "id": "16843bb1",
   "metadata": {},
   "outputs": [
    {
     "data": {
      "text/plain": [
       "Gender  No_show\n",
       "F       No         57245\n",
       "        Yes        14594\n",
       "M       No         30962\n",
       "        Yes         7725\n",
       "Name: No_show, dtype: int64"
      ]
     },
     "execution_count": 176,
     "metadata": {},
     "output_type": "execute_result"
    }
   ],
   "source": [
    "df.groupby('Gender').No_show.value_counts()"
   ]
  },
  {
   "cell_type": "code",
   "execution_count": 177,
   "id": "9964392d",
   "metadata": {},
   "outputs": [
    {
     "data": {
      "text/plain": [
       "Text(0, 0.5, 'Number of patients')"
      ]
     },
     "execution_count": 177,
     "metadata": {},
     "output_type": "execute_result"
    },
    {
     "data": {
      "image/png": "[encoded data removed]",
      "text/plain": [
       "<Figure size 432x288 with 1 Axes>"
      ]
     },
     "metadata": {
      "needs_background": "light"
     },
     "output_type": "display_data"
    }
   ],
   "source": [
    "df.groupby('Gender').No_show.value_counts().plot(kind='bar',color=['#ffccff','#99ccff','#99cc00','#ff9999']);\n",
    "plt.title(\"Distribution of Gender\")\n",
    "plt.xlabel(\" Gender of showed up and didn't show patients\")\n",
    "plt.ylabel(\"Number of patients\")\n"
   ]
  },
  {
   "cell_type": "markdown",
   "id": "60b2238f",
   "metadata": {},
   "source": [
    "(F,No )  : means femals who showed up in the appointments.\n",
    "\n",
    "(F,Yes ) : means femals who didn't show up in the appointments.\n",
    "\n",
    "(M,No )  : means femals who showed up in the appointments.\n",
    "\n",
    "(M,Yes ) : means femals who didn't show up in the appointments."
   ]
  },
  {
   "cell_type": "markdown",
   "id": "465176ef",
   "metadata": {},
   "source": [
    "- There does seem to be no clear relation between gender and showing  up or not, but it seems that females are definitely more  showing up than males."
   ]
  },
  {
   "cell_type": "markdown",
   "id": "75f012d2",
   "metadata": {},
   "source": [
    "###  Research Question 5 : whether the Scholarship is associted with showing up in the appointments ?"
   ]
  },
  {
   "cell_type": "code",
   "execution_count": 178,
   "id": "2c486def",
   "metadata": {},
   "outputs": [
    {
     "data": {
      "image/png": "[encoded data removed]",
      "text/plain": [
       "<Figure size 432x288 with 1 Axes>"
      ]
     },
     "metadata": {
      "needs_background": "light"
     },
     "output_type": "display_data"
    }
   ],
   "source": [
    "# how many patients who showed up and who didn't based on Scholarship\n",
    "sns.countplot(data = df, x = 'Scholarship', palette=\"Accent\",  hue = df.No_show)\n",
    "plt.title(\"Distribution of patients based on Scholarship\")\n",
    "# title and labels\n",
    "plt.xlabel(\"Scholarship\")\n",
    "plt.ylabel(\"Number of patients\")\n",
    "plt.xticks([0, 1],['unenrolled','enrolled'])\n",
    "plt.show()\n"
   ]
  },
  {
   "cell_type": "markdown",
   "id": "169cd826",
   "metadata": {},
   "source": [
    "- There does seem to be no clear relation between Scholarship and showing up or not.The most of the patient did unenroll in Brazilian welfare program and showed up in their appointments."
   ]
  },
  {
   "cell_type": "markdown",
   "id": "75d2ca13",
   "metadata": {},
   "source": [
    "#### Research Question 6 : whether the Alcoholism  is associted with showing up in the appointments ?"
   ]
  },
  {
   "cell_type": "code",
   "execution_count": 179,
   "id": "62d2e533",
   "metadata": {},
   "outputs": [
    {
     "data": {
      "image/png": "[encoded data removed]",
      "text/plain": [
       "<Figure size 720x432 with 1 Axes>"
      ]
     },
     "metadata": {
      "needs_background": "light"
     },
     "output_type": "display_data"
    }
   ],
   "source": [
    "# how many patients who showed up and who didn't based on Alcoholism \n",
    "showtrend(df,'Alcoholism')"
   ]
  },
  {
   "cell_type": "markdown",
   "id": "1fbd4ab6",
   "metadata": {},
   "source": [
    "- There does seem to be no clear relation between Alcoholism and showing up or not."
   ]
  },
  {
   "cell_type": "markdown",
   "id": "1459d3bc",
   "metadata": {},
   "source": [
    "###  Research Question 7 : whether the Handicap  is associted with showing up in the appointments ?"
   ]
  },
  {
   "cell_type": "code",
   "execution_count": 180,
   "id": "d6b33db1",
   "metadata": {},
   "outputs": [
    {
     "data": {
      "image/png": "[encoded data removed]",
      "text/plain": [
       "<Figure size 720x432 with 1 Axes>"
      ]
     },
     "metadata": {
      "needs_background": "light"
     },
     "output_type": "display_data"
    }
   ],
   "source": [
    "# how many patients who showed up and who didn't based on Handicap\n",
    "showtrend(df,'Handicap')"
   ]
  },
  {
   "cell_type": "markdown",
   "id": "c845a540",
   "metadata": {},
   "source": [
    "- There does seem to be no clear relation between Handicap and showing  up or not."
   ]
  },
  {
   "cell_type": "markdown",
   "id": "b731c407",
   "metadata": {},
   "source": [
    "###  Research Question 8 : whether the Neighbourhood  is associted with showing up in the appointments ?"
   ]
  },
  {
   "cell_type": "code",
   "execution_count": 181,
   "id": "f540af27",
   "metadata": {},
   "outputs": [
    {
     "data": {
      "text/plain": [
       "Text(0.5, 1.0, 'Number of patients based on Neighbourhood ')"
      ]
     },
     "execution_count": 181,
     "metadata": {},
     "output_type": "execute_result"
    },
    {
     "data": {
      "image/png": "[encoded data removed]",
      "text/plain": [
       "<Figure size 1296x576 with 1 Axes>"
      ]
     },
     "metadata": {
      "needs_background": "light"
     },
     "output_type": "display_data"
    }
   ],
   "source": [
    "# how many patients who showed up and who didn't based on Neighbourhood\n",
    "#  it is better to use Bar chart than histogram to visualize this characteristic \n",
    "plt.figure(figsize=[18.00,8.00])\n",
    "df.Neighbourhood[show].value_counts().plot(kind='bar',alpha=0.5,color='blue',label='show')\n",
    "df.Neighbourhood[noShow].value_counts().plot(kind='bar',alpha=0.5,color='red',label='noShow')\n",
    "# legend\n",
    "plt.legend()\n",
    "# title and labels\n",
    "plt.ylabel('Number of patients')\n",
    "plt.xlabel('Neighbourhood')\n",
    "plt.title('Number of patients based on Neighbourhood ')"
   ]
  },
  {
   "cell_type": "code",
   "execution_count": 182,
   "id": "076d1c75",
   "metadata": {},
   "outputs": [
    {
     "data": {
      "text/plain": [
       "JARDIM CAMBURI                 7717\n",
       "MARIA ORTIZ                    5805\n",
       "RESISTÊNCIA                    4431\n",
       "JARDIM DA PENHA                3877\n",
       "ITARARÉ                        3514\n",
       "                               ... \n",
       "ILHA DO BOI                      35\n",
       "ILHA DO FRADE                    10\n",
       "AEROPORTO                         8\n",
       "ILHAS OCEÂNICAS DE TRINDADE       2\n",
       "PARQUE INDUSTRIAL                 1\n",
       "Name: Neighbourhood, Length: 81, dtype: int64"
      ]
     },
     "execution_count": 182,
     "metadata": {},
     "output_type": "execute_result"
    }
   ],
   "source": [
    "df.Neighbourhood.value_counts()"
   ]
  },
  {
   "cell_type": "markdown",
   "id": "13dc3e7e",
   "metadata": {},
   "source": [
    "- The neighborhood has a huge impact on attendance and JARDIM CAMBURI has the largest number of patients and also has the largest number of appointment attendees."
   ]
  },
  {
   "cell_type": "markdown",
   "id": "11011c18",
   "metadata": {},
   "source": [
    "###  Research Question 9: whether the  SMS_received   is associted with showing up in the appointments ?"
   ]
  },
  {
   "cell_type": "code",
   "execution_count": 183,
   "id": "88281dcd",
   "metadata": {},
   "outputs": [
    {
     "data": {
      "image/png": "[encoded data removed]",
      "text/plain": [
       "<Figure size 432x288 with 1 Axes>"
      ]
     },
     "metadata": {
      "needs_background": "light"
     },
     "output_type": "display_data"
    }
   ],
   "source": [
    "# how many patients who showed up and who didn't based on SMS_received\n",
    "sns.countplot(data = df, x = 'SMS_received', palette=\"Set1\",  hue = df.No_show)\n",
    "plt.title(\"Distribution of patients based on SMS_received\")\n",
    "# title and labels\n",
    "plt.xlabel(\"SMS_received\")\n",
    "plt.ylabel(\"Number of patients\")\n",
    "plt.xticks([0, 1],['NO_SMS_received','SMS_received'])\n",
    "plt.show()"
   ]
  },
  {
   "cell_type": "markdown",
   "id": "e4fa76ea",
   "metadata": {},
   "source": [
    "- patients who didn't receive SMS showed up more than patients who received  SMS, which is weird."
   ]
  },
  {
   "cell_type": "markdown",
   "id": "c3fc96d3",
   "metadata": {},
   "source": [
    "## Conclusions\n",
    "\n",
    "## Univariate Exploration\n",
    "\n",
    "#### Research Question 1 : what is the percentage of attending in the appointment?\n",
    "The patients who showed up are 79.8 % and the patients who didn't are 20.2 % ,which means The patients who showed up are much more than the patients who didn't.\n",
    "\n",
    "####  Research Question 2 :How many patient  in this dataset based on their gender?\n",
    "The number of female patients (71839) and number of male patients (38687).\n",
    "females are definitely more than males in this data set.\n",
    "\n",
    "## Bivariate Exploration\n",
    "\n",
    "#### Research Question 3 : whether the Age is associted with showing up in the appointments ?¶\n",
    "\n",
    "Young children (from age 0 to 11 years)have a higher chance of showing up than other ages,followed by ages from 45 to 58 years ,but other than that it doesn't look like they're too correlated.\n",
    "\n",
    "#### Research Question 4: whether the Gender is associted with showing up in the appointments ?\n",
    "There does seem to be no clear relation between gender and showing  up or not, but it seems that females are definitely more  showing up than males.\n",
    "\n",
    "#### Research Question 5 : whether the Scholarship is associted with showing up in the appointments ?\n",
    "There does seem to be no clear relation between Scholarship and showing up or not.\n",
    "The most of the patient did unenroll in Brazilian welfare program and showed up in their appointments.\n",
    "\n",
    "\n",
    "#### Research Question 6 : whether the Alcoholism  is associted with showing up in the appointments ?\n",
    "There does seem to be no clear relation between Alcoholism and showing up or not.\n",
    "The most of the patient were not alcoholism  and showed up in their appointments.\n",
    "\n",
    "\n",
    "#### Research Question 7 : whether the Handicap is associted with showing up in the appointments ?\n",
    "There does seem to be no clear relation between Handicap and showing up or not.\n",
    "\n",
    "\n",
    "#### Research Question 8 : whether the Neighbourhood is associted with showing up in the appointments ?\n",
    "The neighborhood has a huge impact on attendance and JARDIM CAMBURI has the largest number of patients  and also has the largest number of appointment attendees.\n",
    "\n",
    "#### Research Question 9: whether the SMS_received is associted with showing up in the appointments ?\n",
    "- patients who didn't receive SMS showed up more than patients who received  SMS, which is weird.\n",
    "\n",
    "- additional research should be done to investigat why patients who didn't receive SMS showed up more than patients who received  SMS.\n",
    "\n",
    "\n",
    "## limitations \n",
    "- There is no enough information to predict exactly the correlation between showing up in the appointment and many characteristics of the patients such as Gender,Scholarship,Alcoholism,Handicap.\n",
    "\n",
    "\n",
    "\n",
    "\n",
    "\n",
    "\n",
    "\n"
   ]
  }
 ],
 "metadata": {
  "kernelspec": {
   "display_name": "Python 3",
   "language": "python",
   "name": "python3"
  },
  "language_info": {
   "codemirror_mode": {
    "name": "ipython",
    "version": 3
   },
   "file_extension": ".py",
   "mimetype": "text/x-python",
   "name": "python",
   "nbconvert_exporter": "python",
   "pygments_lexer": "ipython3",
   "version": "3.8.8"
  }
 },
 "nbformat": 4,
 "nbformat_minor": 5
}
